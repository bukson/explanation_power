{
 "cells": [
  {
   "cell_type": "code",
   "execution_count": 2,
   "id": "initial_id",
   "metadata": {
    "collapsed": true,
    "ExecuteTime": {
     "end_time": "2024-10-26T17:38:02.397514841Z",
     "start_time": "2024-10-26T17:38:02.374229511Z"
    }
   },
   "outputs": [],
   "source": [
    "from lime.lime_text import LimeTextExplainer\n",
    "import pandas as pd\n",
    "from sklearn.model_selection import train_test_split\n",
    "from sklearn.feature_extraction.text import TfidfVectorizer\n",
    "from sklearn.pipeline import Pipeline\n",
    "from sklearn.linear_model import LogisticRegression\n",
    "from sklearn.metrics import accuracy_score, classification_report\n",
    "import shap\n",
    "import numpy as np\n",
    "from src.shap_consistency_change import calculate_consistency_change_shap\n",
    "from src.lime_consistency_change import calculate_consistency_change_lime\n",
    "random_state = 0"
   ]
  },
  {
   "cell_type": "code",
   "execution_count": 3,
   "outputs": [],
   "source": [
    "# https://www.kaggle.com/datasets/lakshmi25npathi/imdb-dataset-of-50k-movie-reviews\n",
    "data = pd.read_csv('../data/IMDB Dataset.csv')\n",
    "X, y = data[\"review\"], data[\"sentiment\"] == \"positive\"\n",
    "X_train, X_test, y_train, y_test = train_test_split(X, y, test_size=0.2, random_state=random_state)"
   ],
   "metadata": {
    "collapsed": false,
    "ExecuteTime": {
     "end_time": "2024-10-26T17:38:02.744147002Z",
     "start_time": "2024-10-26T17:38:02.401277992Z"
    }
   },
   "id": "5812854001bde5e9"
  },
  {
   "cell_type": "markdown",
   "source": [
    "## Example positive review"
   ],
   "metadata": {
    "collapsed": false
   },
   "id": "475f0702faf9298a"
  },
  {
   "cell_type": "code",
   "execution_count": 4,
   "outputs": [
    {
     "name": "stdout",
     "output_type": "stream",
     "text": [
      "One of the other reviewers has mentioned that after watching just 1 Oz episode you'll be hooked. They are right, as this is exactly what happened with me.<br /><br />The first thing that struck me about Oz was its brutality and unflinching scenes of violence, which set in right from the word GO. Trust me, this is not a show for the faint hearted or timid. This show pulls no punches with regards to drugs, sex or violence. Its is hardcore, in the classic use of the word.<br /><br />It is called OZ as that is the nickname given to the Oswald Maximum Security State Penitentary. It focuses mainly on Emerald City, an experimental section of the prison where all the cells have glass fronts and face inwards, so privacy is not high on the agenda. Em City is home to many..Aryans, Muslims, gangstas, Latinos, Christians, Italians, Irish and more....so scuffles, death stares, dodgy dealings and shady agreements are never far away.<br /><br />I would say the main appeal of the show is due to the fact that it goes where other shows wouldn't dare. Forget pretty pictures painted for mainstream audiences, forget charm, forget romance...OZ doesn't mess around. The first episode I ever saw struck me as so nasty it was surreal, I couldn't say I was ready for it, but as I watched more, I developed a taste for Oz, and got accustomed to the high levels of graphic violence. Not just violence, but injustice (crooked guards who'll be sold out for a nickel, inmates who'll kill on order and get away with it, well mannered, middle class inmates being turned into prison bitches due to their lack of street skills or prison experience) Watching Oz, you may become comfortable with what is uncomfortable viewing....thats if you can get in touch with your darker side.\n"
     ]
    }
   ],
   "source": [
    "print(X[0])"
   ],
   "metadata": {
    "collapsed": false,
    "ExecuteTime": {
     "end_time": "2024-10-26T17:38:02.784223861Z",
     "start_time": "2024-10-26T17:38:02.783631163Z"
    }
   },
   "id": "324bfd9df27093de"
  },
  {
   "cell_type": "code",
   "execution_count": 5,
   "outputs": [],
   "source": [
    "pipeline = Pipeline([\n",
    "    ('tfidf', TfidfVectorizer(stop_words='english', max_df=0.7)),  # Convert text to TF-IDF features\n",
    "    ('clf', LogisticRegression(solver='liblinear', random_state=random_state))  # Logistic Regression classifier\n",
    "])"
   ],
   "metadata": {
    "collapsed": false,
    "ExecuteTime": {
     "end_time": "2024-10-26T17:38:02.784557292Z",
     "start_time": "2024-10-26T17:38:02.783917177Z"
    }
   },
   "id": "e2d201f6563bc8cd"
  },
  {
   "cell_type": "code",
   "execution_count": 6,
   "outputs": [
    {
     "name": "stdout",
     "output_type": "stream",
     "text": [
      "Accuracy: 0.89\n",
      "              precision    recall  f1-score   support\n",
      "\n",
      "       False       0.90      0.88      0.89      5035\n",
      "        True       0.88      0.90      0.89      4965\n",
      "\n",
      "    accuracy                           0.89     10000\n",
      "   macro avg       0.89      0.89      0.89     10000\n",
      "weighted avg       0.89      0.89      0.89     10000\n"
     ]
    }
   ],
   "source": [
    "pipeline.fit(X_train, y_train)\n",
    "y_pred = pipeline.predict(X_test)\n",
    "accuracy = accuracy_score(y_test, y_pred)\n",
    "print(f\"Accuracy: {accuracy:.2f}\")\n",
    "print(classification_report(y_test, y_pred))"
   ],
   "metadata": {
    "collapsed": false,
    "ExecuteTime": {
     "end_time": "2024-10-26T17:38:06.846430260Z",
     "start_time": "2024-10-26T17:38:02.784009768Z"
    }
   },
   "id": "aa8d0382c3d0d968"
  },
  {
   "cell_type": "markdown",
   "source": [
    "## Define explanation dataset"
   ],
   "metadata": {
    "collapsed": false
   },
   "id": "b4a227e462f8d72b"
  },
  {
   "cell_type": "code",
   "execution_count": 7,
   "outputs": [],
   "source": [
    "X_explain = X_test[:1000]"
   ],
   "metadata": {
    "collapsed": false,
    "ExecuteTime": {
     "end_time": "2024-10-26T17:38:06.846739749Z",
     "start_time": "2024-10-26T17:38:06.838089390Z"
    }
   },
   "id": "c132e382bf561d2a"
  },
  {
   "cell_type": "markdown",
   "source": [
    "## Calculate shap explanations"
   ],
   "metadata": {
    "collapsed": false
   },
   "id": "81d54ac338d5016b"
  },
  {
   "cell_type": "code",
   "execution_count": 8,
   "outputs": [],
   "source": [
    "# takes about 2.5 minutes\n",
    "masker = shap.maskers.Text()\n",
    "# Calculate SHAP values for an explanation samples\n",
    "explainer = shap.Explainer(lambda s: pipeline.predict_proba(s).T[1], masker, seed=0, silent=True)\n",
    "shap_values = explainer(X_explain)"
   ],
   "metadata": {
    "collapsed": false,
    "ExecuteTime": {
     "end_time": "2024-10-26T17:38:09.016576875Z",
     "start_time": "2024-10-26T17:38:06.840391563Z"
    }
   },
   "id": "70a772c5f7639b66"
  },
  {
   "cell_type": "markdown",
   "source": [
    "## Calculate shap explanations consistency change and mean consistency change for all dataset"
   ],
   "metadata": {
    "collapsed": false
   },
   "id": "55ea43e4bd3fd3f"
  },
  {
   "cell_type": "code",
   "execution_count": 9,
   "outputs": [
    {
     "data": {
      "text/plain": "np.float64(0.053704888976680284)"
     },
     "execution_count": 9,
     "metadata": {},
     "output_type": "execute_result"
    }
   ],
   "source": [
    "# takes about 1.4 minute\n",
    "consistency_change_scoring_function =  lambda s: pipeline.predict_proba([s]).T[1]\n",
    "consistency_change_shap = [calculate_consistency_change_shap(consistency_change_scoring_function, x, shap_values[i]) \n",
    "                          for (i,x) in enumerate(X_explain)]\n",
    "mean_consistency_change_shap = np.mean(np.mean(consistency_change_shap,axis=1))\n",
    "mean_consistency_change_shap"
   ],
   "metadata": {
    "collapsed": false,
    "ExecuteTime": {
     "end_time": "2024-10-26T17:38:09.086732682Z",
     "start_time": "2024-10-26T17:38:09.056442763Z"
    }
   },
   "id": "426fb9c924c424d4"
  },
  {
   "cell_type": "markdown",
   "source": [
    "## Calculate lime explanations"
   ],
   "metadata": {
    "collapsed": false
   },
   "id": "2209d1f226c8ba"
  },
  {
   "cell_type": "code",
   "execution_count": 10,
   "outputs": [],
   "source": [
    "# takes about 2.5 minute\n",
    "class_names = [\"0\", \"1\"]\n",
    "lime_explainer = LimeTextExplainer(class_names=class_names)\n",
    "lime_explanations =  [lime_explainer.explain_instance(x, pipeline.predict_proba, top_labels=2,\n",
    "                                                       num_features=300, num_samples=1000) for i,x in enumerate(X_explain)]"
   ],
   "metadata": {
    "collapsed": false,
    "ExecuteTime": {
     "end_time": "2024-10-26T17:38:09.933968163Z",
     "start_time": "2024-10-26T17:38:09.086405879Z"
    }
   },
   "id": "9d71f9f9c6888e0b"
  },
  {
   "cell_type": "markdown",
   "source": [
    "## Calculate lime explanations consistency change and mean consistency change for all dataset"
   ],
   "metadata": {
    "collapsed": false
   },
   "id": "a6b6630575c673ac"
  },
  {
   "cell_type": "code",
   "execution_count": 11,
   "outputs": [
    {
     "data": {
      "text/plain": "np.float64(0.12069535457373529)"
     },
     "execution_count": 11,
     "metadata": {},
     "output_type": "execute_result"
    }
   ],
   "source": [
    "consistency_change_lime = [calculate_consistency_change_lime(consistency_change_scoring_function, x, lime_explanations[i]) \n",
    "                           for i,x in enumerate(X_explain)]\n",
    "mean_consistency_change_lime = np.mean(np.mean(consistency_change_lime,axis=1))\n",
    "mean_consistency_change_lime "
   ],
   "metadata": {
    "collapsed": false,
    "ExecuteTime": {
     "end_time": "2024-10-26T17:38:09.977115560Z",
     "start_time": "2024-10-26T17:38:09.935205235Z"
    }
   },
   "id": "9428a9caf0a5db16"
  }
 ],
 "metadata": {
  "kernelspec": {
   "display_name": "Python 3",
   "language": "python",
   "name": "python3"
  },
  "language_info": {
   "codemirror_mode": {
    "name": "ipython",
    "version": 2
   },
   "file_extension": ".py",
   "mimetype": "text/x-python",
   "name": "python",
   "nbconvert_exporter": "python",
   "pygments_lexer": "ipython2",
   "version": "2.7.6"
  }
 },
 "nbformat": 4,
 "nbformat_minor": 5
}
